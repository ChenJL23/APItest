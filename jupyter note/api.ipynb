{
 "cells": [
  {
   "cell_type": "code",
   "outputs": [],
   "source": [
    "import requests\n",
    "\n",
    "url = \"http://localhost:8080\"\n",
    "login = {'username': 'admin', 'password': 'password'}\n"
   ],
   "metadata": {
    "collapsed": false
   },
   "id": "65a57b24723c60ac",
   "execution_count": null
  },
  {
   "cell_type": "code",
   "outputs": [],
   "source": [
    "res = requests.get(url)\n",
    "print(f'Status Code: {res.status_code}\\ntext: {res.text}')"
   ],
   "metadata": {
    "collapsed": false
   },
   "id": "6e6a5a9895514b4c",
   "execution_count": null
  },
  {
   "cell_type": "markdown",
   "source": [
    "## Login  post"
   ],
   "metadata": {
    "collapsed": false
   },
   "id": "d16ba3ecc6aef772"
  },
  {
   "cell_type": "code",
   "outputs": [],
   "source": [
    "lo = requests.post(url + '/auth/login', json=login)\n",
    "token = lo.cookies.get('token')\n",
    "print(f'Token: {token}')\n",
    "print(f'Status Code: {lo.status_code}\\n'\n",
    "      f'headers: {lo.headers}\\n')"
   ],
   "metadata": {
    "collapsed": false
   },
   "id": "6ce76d3cc914aa5c",
   "execution_count": null
  },
  {
   "cell_type": "code",
   "outputs": [],
   "source": [
    "room = {\n",
    "    \"roomName\": \"102\",\n",
    "    \"type\": \"Single\",\n",
    "    \"accessible\": \"true\",\n",
    "    \"description\": \"Please enter a description for this room\",\n",
    "    \"image\": \"https://www.mwtestconsultancy.co.uk/img/room1.jpg\",\n",
    "    \"roomPrice\": \"500\",\n",
    "    \"features\": [\n",
    "        \"WiFi\",\n",
    "        \"TV\",\n",
    "        \"Radio\",\n",
    "        \"Refreshments\",\n",
    "        \"Safe\",\n",
    "        \"Views\"\n",
    "    ]\n",
    "}"
   ],
   "metadata": {
    "collapsed": false
   },
   "id": "50aa98ac774950eb",
   "execution_count": null
  },
  {
   "cell_type": "code",
   "outputs": [],
   "source": [
    "roomData = requests.get(url + '/room/')\n",
    "print(f'room data: {roomData.text}')"
   ],
   "metadata": {
    "collapsed": false
   },
   "id": "2c1b7cdb7cf83c0e",
   "execution_count": null
  },
  {
   "cell_type": "code",
   "outputs": [],
   "source": [
    "addData = requests.post(url + '/room/', json=room, cookies=lo.cookies)\n",
    "print(f'put data: {addData.text}')"
   ],
   "metadata": {
    "collapsed": false
   },
   "id": "c6ab7b4aaa5616cf",
   "execution_count": null
  },
  {
   "cell_type": "markdown",
   "source": [
    "## Put"
   ],
   "metadata": {
    "collapsed": false
   },
   "id": "9de2ca610fedc933"
  },
  {
   "cell_type": "code",
   "outputs": [],
   "source": [
    "putData = requests.put(url + '/room/2', json={\n",
    "    \"roomName\": \"102\",\n",
    "    \"type\": \"Double\",\n",
    "    \"accessible\": \"true\",\n",
    "    \"description\": \"put data\",\n",
    "    \"image\": \"https://www.mwtestconsultancy.co.uk/img/room1.jpg\",\n",
    "    \"roomPrice\": \"700\",\n",
    "    \"features\": [\n",
    "        \"WiFi\",\n",
    "        \"TV\",\n",
    "        \"Radio\",\n",
    "        \"Refreshments\",\n",
    "        \"Safe\",\n",
    "        \"Views\"\n",
    "    ]\n",
    "}, cookies=lo.cookies)\n",
    "print(f'put data: {putData.text}\\n'\n",
    "      f'status_code: {putData.status_code}\\n')"
   ],
   "metadata": {
    "collapsed": false
   },
   "id": "206d8b7c55aeaa74",
   "execution_count": null
  },
  {
   "cell_type": "markdown",
   "source": [
    "## Delete"
   ],
   "metadata": {
    "collapsed": false
   },
   "id": "7ec85dae32d3858c"
  },
  {
   "cell_type": "code",
   "outputs": [],
   "source": [
    "delete = requests.delete(url + '/room/2', cookies=lo.cookies)\n",
    "print(f'delete data: {delete.text}')"
   ],
   "metadata": {
    "collapsed": false
   },
   "id": "cea5d7a3572070f4",
   "execution_count": null
  },
  {
   "cell_type": "markdown",
   "source": [
    "## 高德天气查询接口 get"
   ],
   "metadata": {
    "collapsed": false
   },
   "id": "556cc127abc454c0"
  },
  {
   "cell_type": "code",
   "outputs": [],
   "source": [
    "gd = \"https://restapi.amap.com\"\n",
    "param = {\n",
    "    'city': '330781',\n",
    "    'key': 'f38c3dbf137fdb517048cb3a1294279b'\n",
    "}\n",
    "\n",
    "res = requests.get(gd + '/v3/weather/weatherInfo', params=param)\n",
    "print(res.json())"
   ],
   "metadata": {
    "collapsed": false
   },
   "id": "e72bac1bb1e9227d",
   "execution_count": null
  }
 ],
 "metadata": {
  "kernelspec": {
   "display_name": "Python 3",
   "language": "python",
   "name": "python3"
  },
  "language_info": {
   "codemirror_mode": {
    "name": "ipython",
    "version": 2
   },
   "file_extension": ".py",
   "mimetype": "text/x-python",
   "name": "python",
   "nbconvert_exporter": "python",
   "pygments_lexer": "ipython2",
   "version": "2.7.6"
  }
 },
 "nbformat": 4,
 "nbformat_minor": 5
}
