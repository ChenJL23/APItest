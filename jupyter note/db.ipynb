{
 "cells": [
  {
   "cell_type": "code",
   "outputs": [],
   "source": [
    "import pymysql\n",
    "\n",
    "sql = \"select version()\"\n",
    "# sql = \"show tables;\"\n",
    "# sql = \"select * from students\"\n",
    "conn = pymysql.connect(host=\"aliyun\", port=3306, user=\"chen\", passwd=\"Cjl232032.\", db=\"test_db\",\n",
    "                       charset=\"utf8\")\n",
    "\n",
    "cursor = conn.cursor()\n",
    "cursor.execute(sql)\n",
    "# res = cursor.fetchone()\n",
    "# res2 = cursor.fetchmany(5)\n",
    "# 修改游标位置，归零\n",
    "# cursor.rownumber = 0\n",
    "results = cursor.fetchall()\n",
    "for i in results:\n",
    "    print(i)\n",
    "# print(res)\n",
    "conn.close()"
   ],
   "metadata": {
    "collapsed": false
   },
   "id": "cb8d30921e154252",
   "execution_count": null
  },
  {
   "cell_type": "markdown",
   "source": [
    "#### 捕获异常"
   ],
   "metadata": {
    "collapsed": false
   },
   "id": "9728e47f06947a4b"
  },
  {
   "cell_type": "code",
   "outputs": [],
   "source": [
    "import pymysql\n",
    "\n",
    "sql = \"select * from students where studentNo = '014';\"\n",
    "sql1 = \"insert into students(studentNo, name, sex, hometown, age) values('014', '张三', '男', '浙江', 24);\"\n",
    "sql2 = \"update students set age = 24 where studentNo = '014';\"\n",
    "sql3 = \"delete from students where studentNo = '014';\"\n",
    "\n",
    "# 确保finally可以正常识别conn和cursor，以便关闭\n",
    "conn = None\n",
    "cursor = None\n",
    "\n",
    "try:\n",
    "    conn = pymysql.connect(host=\"aliyun\", port=3306, user=\"chen\", passwd=\"Cjl232032.\", db=\"test_db\",\n",
    "                           charset=\"utf8\")\n",
    "    cursor = conn.cursor()\n",
    "    cursor.execute(sql)\n",
    "    print(f'影响行数: {conn.affected_rows()}')\n",
    "    # 提交事务\n",
    "    conn.commit()\n",
    "    # cursor.execute(sql)\n",
    "    res = cursor.fetchall()\n",
    "    print(res)\n",
    "except Exception as e:\n",
    "    print(f\"插入数据错误:{str(e)}\")\n",
    "    # 事务回滚\n",
    "    conn.rollback()\n",
    "finally:\n",
    "    cursor.close()\n",
    "    conn.close()"
   ],
   "metadata": {
    "collapsed": false
   },
   "id": "a0554c1e96b318d9",
   "execution_count": null
  },
  {
   "cell_type": "markdown",
   "source": [
    "#### 封装工具类"
   ],
   "metadata": {
    "collapsed": false
   },
   "id": "81769956fdb2fc98"
  },
  {
   "cell_type": "code",
   "execution_count": null,
   "id": "initial_id",
   "metadata": {
    "collapsed": true,
    "is_executing": true
   },
   "outputs": [],
   "source": [
    "import pymysql\n",
    "\n",
    "\n",
    "class DBUtils(object):\n",
    "    conn = None\n",
    "\n",
    "    @classmethod\n",
    "    def __get_conn(cls):\n",
    "        if cls.conn is None:\n",
    "            cls.conn = pymysql.connect(host='aliyun', port=3306, user='chen', passwd='Cjl232032.',\n",
    "                                       db='test_db', charset='utf8')\n",
    "        return cls.conn\n",
    "\n",
    "    @classmethod\n",
    "    def __close_conn(cls):\n",
    "        if cls.conn is not None:\n",
    "            cls.conn.close()\n",
    "\n",
    "    @classmethod\n",
    "    def query_one(cls):\n",
    "        pass\n",
    "\n",
    "    @classmethod\n",
    "    def uid_db(cls):\n",
    "        pass"
   ]
  },
  {
   "cell_type": "markdown",
   "source": [
    "- 向 t_book 表插入一本书，书名为《Python从入门到放弃》，阅读量为50，评论量为0，发布日期为：2020-01-01\n",
    "- 测试工程师发现一个bug，该书的评论数与实际不符，要求你把评论量修改为修正后的值：250\n",
    "- 老板投资了Python，觉得这本书名太不吉利，需要下架，请删除这本书。\n",
    "- 你删除后，心中不放心到底有没有删除，想确认是否真正删除了，你需要怎么做？"
   ],
   "metadata": {
    "collapsed": false
   },
   "id": "390da6860adf814"
  },
  {
   "cell_type": "code",
   "outputs": [],
   "source": [
    "from utils.DBUtils import DBUtils\n",
    "\n",
    "db = DBUtils()\n",
    "# sql = \"insert into t_book(book_name,read_volume,comments,date) values ('《Python从入门到放弃》',50,0,'2020-01-01');\"\n",
    "# sql = \"update t_book set comments = 250 where book_name = '《Python从入门到放弃》';\"\n",
    "# delete = \"DELETE FROM t_book where book_name = '《Python从入门到放弃》';\"\n",
    "sql = \"select * from t_book;\"\n",
    "uid = db.uid_db(sql)\n",
    "\n",
    "select = DBUtils.query_one(sql)\n",
    "# print(uid)\n",
    "print(select)"
   ],
   "metadata": {
    "collapsed": false
   },
   "id": "d4074fa25a56fed0",
   "execution_count": null
  }
 ],
 "metadata": {
  "kernelspec": {
   "display_name": "Python 3",
   "language": "python",
   "name": "python3"
  },
  "language_info": {
   "codemirror_mode": {
    "name": "ipython",
    "version": 2
   },
   "file_extension": ".py",
   "mimetype": "text/x-python",
   "name": "python",
   "nbconvert_exporter": "python",
   "pygments_lexer": "ipython2",
   "version": "2.7.6"
  }
 },
 "nbformat": 4,
 "nbformat_minor": 5
}
